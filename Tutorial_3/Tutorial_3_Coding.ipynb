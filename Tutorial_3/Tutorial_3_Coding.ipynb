{
  "cells": [
    {
      "cell_type": "markdown",
      "metadata": {
        "id": "view-in-github",
        "colab_type": "text"
      },
      "source": [
        "<a href=\"https://colab.research.google.com/github/Moxomio/Assg-ML-1/blob/main/Tutorial_3/Tutorial_3_Coding.ipynb\" target=\"_parent\"><img src=\"https://colab.research.google.com/assets/colab-badge.svg\" alt=\"Open In Colab\"/></a>"
      ]
    },
    {
      "cell_type": "code",
      "execution_count": 1,
      "metadata": {
        "id": "p40k9rCLQEkF",
        "tags": []
      },
      "outputs": [],
      "source": [
        "# Initialization\n",
        "%matplotlib inline\n",
        "from warnings import filterwarnings\n",
        "filterwarnings('ignore')"
      ]
    },
    {
      "cell_type": "markdown",
      "metadata": {
        "id": "xBA4Ke9hQEkG"
      },
      "source": [
        "## Exercise 1\n",
        "### Regression\n",
        "#### Build a regression model to estimate the weight based on height"
      ]
    },
    {
      "cell_type": "code",
      "execution_count": 2,
      "metadata": {
        "id": "SPSzzT72QEkH",
        "tags": []
      },
      "outputs": [],
      "source": [
        "import sys\n",
        "from pandas import read_csv, get_dummies\n",
        "from sklearn.model_selection import train_test_split as split\n",
        "from sklearn.linear_model import LinearRegression\n",
        "\n",
        "# Determine the environment\n",
        "is_colab = 'google.colab' in sys.modules\n",
        "# # Load the dataset conditionally\n",
        "if is_colab:\n",
        "    # Code for Google Colab environment\n",
        "    df = read_csv(\"https://raw.githubusercontent.com/wooihaw/ERA3036_T2310/main/data/genders_heights_weights.csv\")\n",
        "else:\n",
        "    # Code for local Jupyter Notebook environment\n",
        "    df = read_csv(\"../data/genders_heights_weights.csv\")\n",
        "\n",
        "X1 = df.drop(columns=['Gender', 'Weight'])\n",
        "y1 = df['Weight']\n",
        "X1_train, X1_test, y1_train, y1_test = split(X1, y1, train_size=0.75, random_state=42)"
      ]
    },
    {
      "cell_type": "markdown",
      "metadata": {
        "id": "Qu_OGKZRQEkH"
      },
      "source": [
        "To do:\n",
        "- Build a linear regression model (name it as lnr1) to estimate weight using height\n",
        "- Evaluate the model's performance with R2 score"
      ]
    },
    {
      "cell_type": "code",
      "execution_count": 5,
      "metadata": {
        "id": "TgpJVmGLQEkH",
        "tags": [],
        "colab": {
          "base_uri": "https://localhost:8080/"
        },
        "outputId": "c25da1a5-56d6-4020-c477-0bcb63f56c21"
      },
      "outputs": [
        {
          "output_type": "execute_result",
          "data": {
            "text/plain": [
              "0.8573115456970968"
            ]
          },
          "metadata": {},
          "execution_count": 5
        }
      ],
      "source": [
        "lnr1 = LinearRegression().fit(X1_train, y1_train)\n",
        "lnr1.score(X1_test, y1_test)\n",
        ""
      ]
    },
    {
      "cell_type": "code",
      "execution_count": 6,
      "metadata": {
        "id": "0HxwPao4QEkI",
        "tags": [],
        "colab": {
          "base_uri": "https://localhost:8080/"
        },
        "outputId": "feb7a157-f09c-4b80-85e4-2131e3aec9e2"
      },
      "outputs": [
        {
          "output_type": "stream",
          "name": "stdout",
          "text": [
            "Enter height: 165\n",
            "Estimated weight is: [68.28516533]kg\n"
          ]
        }
      ],
      "source": [
        "h = eval(input('Enter height: '))\n",
        "print(f'Estimated weight is: {lnr1.predict([[h]])}kg')"
      ]
    },
    {
      "cell_type": "markdown",
      "metadata": {
        "id": "MVbMvaipQEkI"
      },
      "source": [
        "To do:\n",
        "- Apply categorical encoding using the get_dummies() function from pandas\n",
        "- Print 5 random data samples"
      ]
    },
    {
      "cell_type": "code",
      "execution_count": 7,
      "metadata": {
        "id": "ZcLxWG6iQEkI",
        "tags": [],
        "colab": {
          "base_uri": "https://localhost:8080/",
          "height": 206
        },
        "outputId": "f27bcdfa-57d0-4dd1-9c22-f2c20d08736b"
      },
      "outputs": [
        {
          "output_type": "execute_result",
          "data": {
            "text/plain": [
              "      Height  Weight  Gender_Female  Gender_Male\n",
              "2146   171.3    82.2          False         True\n",
              "8424   161.4    59.1           True        False\n",
              "9737   168.3    63.9           True        False\n",
              "2915   175.9    87.1          False         True\n",
              "2921   173.7    76.3          False         True"
            ],
            "text/html": [
              "\n",
              "  <div id=\"df-c7a5c2c4-27cb-415e-9b33-d0e765bdb29d\" class=\"colab-df-container\">\n",
              "    <div>\n",
              "<style scoped>\n",
              "    .dataframe tbody tr th:only-of-type {\n",
              "        vertical-align: middle;\n",
              "    }\n",
              "\n",
              "    .dataframe tbody tr th {\n",
              "        vertical-align: top;\n",
              "    }\n",
              "\n",
              "    .dataframe thead th {\n",
              "        text-align: right;\n",
              "    }\n",
              "</style>\n",
              "<table border=\"1\" class=\"dataframe\">\n",
              "  <thead>\n",
              "    <tr style=\"text-align: right;\">\n",
              "      <th></th>\n",
              "      <th>Height</th>\n",
              "      <th>Weight</th>\n",
              "      <th>Gender_Female</th>\n",
              "      <th>Gender_Male</th>\n",
              "    </tr>\n",
              "  </thead>\n",
              "  <tbody>\n",
              "    <tr>\n",
              "      <th>2146</th>\n",
              "      <td>171.3</td>\n",
              "      <td>82.2</td>\n",
              "      <td>False</td>\n",
              "      <td>True</td>\n",
              "    </tr>\n",
              "    <tr>\n",
              "      <th>8424</th>\n",
              "      <td>161.4</td>\n",
              "      <td>59.1</td>\n",
              "      <td>True</td>\n",
              "      <td>False</td>\n",
              "    </tr>\n",
              "    <tr>\n",
              "      <th>9737</th>\n",
              "      <td>168.3</td>\n",
              "      <td>63.9</td>\n",
              "      <td>True</td>\n",
              "      <td>False</td>\n",
              "    </tr>\n",
              "    <tr>\n",
              "      <th>2915</th>\n",
              "      <td>175.9</td>\n",
              "      <td>87.1</td>\n",
              "      <td>False</td>\n",
              "      <td>True</td>\n",
              "    </tr>\n",
              "    <tr>\n",
              "      <th>2921</th>\n",
              "      <td>173.7</td>\n",
              "      <td>76.3</td>\n",
              "      <td>False</td>\n",
              "      <td>True</td>\n",
              "    </tr>\n",
              "  </tbody>\n",
              "</table>\n",
              "</div>\n",
              "    <div class=\"colab-df-buttons\">\n",
              "\n",
              "  <div class=\"colab-df-container\">\n",
              "    <button class=\"colab-df-convert\" onclick=\"convertToInteractive('df-c7a5c2c4-27cb-415e-9b33-d0e765bdb29d')\"\n",
              "            title=\"Convert this dataframe to an interactive table.\"\n",
              "            style=\"display:none;\">\n",
              "\n",
              "  <svg xmlns=\"http://www.w3.org/2000/svg\" height=\"24px\" viewBox=\"0 -960 960 960\">\n",
              "    <path d=\"M120-120v-720h720v720H120Zm60-500h600v-160H180v160Zm220 220h160v-160H400v160Zm0 220h160v-160H400v160ZM180-400h160v-160H180v160Zm440 0h160v-160H620v160ZM180-180h160v-160H180v160Zm440 0h160v-160H620v160Z\"/>\n",
              "  </svg>\n",
              "    </button>\n",
              "\n",
              "  <style>\n",
              "    .colab-df-container {\n",
              "      display:flex;\n",
              "      gap: 12px;\n",
              "    }\n",
              "\n",
              "    .colab-df-convert {\n",
              "      background-color: #E8F0FE;\n",
              "      border: none;\n",
              "      border-radius: 50%;\n",
              "      cursor: pointer;\n",
              "      display: none;\n",
              "      fill: #1967D2;\n",
              "      height: 32px;\n",
              "      padding: 0 0 0 0;\n",
              "      width: 32px;\n",
              "    }\n",
              "\n",
              "    .colab-df-convert:hover {\n",
              "      background-color: #E2EBFA;\n",
              "      box-shadow: 0px 1px 2px rgba(60, 64, 67, 0.3), 0px 1px 3px 1px rgba(60, 64, 67, 0.15);\n",
              "      fill: #174EA6;\n",
              "    }\n",
              "\n",
              "    .colab-df-buttons div {\n",
              "      margin-bottom: 4px;\n",
              "    }\n",
              "\n",
              "    [theme=dark] .colab-df-convert {\n",
              "      background-color: #3B4455;\n",
              "      fill: #D2E3FC;\n",
              "    }\n",
              "\n",
              "    [theme=dark] .colab-df-convert:hover {\n",
              "      background-color: #434B5C;\n",
              "      box-shadow: 0px 1px 3px 1px rgba(0, 0, 0, 0.15);\n",
              "      filter: drop-shadow(0px 1px 2px rgba(0, 0, 0, 0.3));\n",
              "      fill: #FFFFFF;\n",
              "    }\n",
              "  </style>\n",
              "\n",
              "    <script>\n",
              "      const buttonEl =\n",
              "        document.querySelector('#df-c7a5c2c4-27cb-415e-9b33-d0e765bdb29d button.colab-df-convert');\n",
              "      buttonEl.style.display =\n",
              "        google.colab.kernel.accessAllowed ? 'block' : 'none';\n",
              "\n",
              "      async function convertToInteractive(key) {\n",
              "        const element = document.querySelector('#df-c7a5c2c4-27cb-415e-9b33-d0e765bdb29d');\n",
              "        const dataTable =\n",
              "          await google.colab.kernel.invokeFunction('convertToInteractive',\n",
              "                                                    [key], {});\n",
              "        if (!dataTable) return;\n",
              "\n",
              "        const docLinkHtml = 'Like what you see? Visit the ' +\n",
              "          '<a target=\"_blank\" href=https://colab.research.google.com/notebooks/data_table.ipynb>data table notebook</a>'\n",
              "          + ' to learn more about interactive tables.';\n",
              "        element.innerHTML = '';\n",
              "        dataTable['output_type'] = 'display_data';\n",
              "        await google.colab.output.renderOutput(dataTable, element);\n",
              "        const docLink = document.createElement('div');\n",
              "        docLink.innerHTML = docLinkHtml;\n",
              "        element.appendChild(docLink);\n",
              "      }\n",
              "    </script>\n",
              "  </div>\n",
              "\n",
              "\n",
              "<div id=\"df-c47b772e-eded-4b1b-abf9-4879d27f6c69\">\n",
              "  <button class=\"colab-df-quickchart\" onclick=\"quickchart('df-c47b772e-eded-4b1b-abf9-4879d27f6c69')\"\n",
              "            title=\"Suggest charts\"\n",
              "            style=\"display:none;\">\n",
              "\n",
              "<svg xmlns=\"http://www.w3.org/2000/svg\" height=\"24px\"viewBox=\"0 0 24 24\"\n",
              "     width=\"24px\">\n",
              "    <g>\n",
              "        <path d=\"M19 3H5c-1.1 0-2 .9-2 2v14c0 1.1.9 2 2 2h14c1.1 0 2-.9 2-2V5c0-1.1-.9-2-2-2zM9 17H7v-7h2v7zm4 0h-2V7h2v10zm4 0h-2v-4h2v4z\"/>\n",
              "    </g>\n",
              "</svg>\n",
              "  </button>\n",
              "\n",
              "<style>\n",
              "  .colab-df-quickchart {\n",
              "      --bg-color: #E8F0FE;\n",
              "      --fill-color: #1967D2;\n",
              "      --hover-bg-color: #E2EBFA;\n",
              "      --hover-fill-color: #174EA6;\n",
              "      --disabled-fill-color: #AAA;\n",
              "      --disabled-bg-color: #DDD;\n",
              "  }\n",
              "\n",
              "  [theme=dark] .colab-df-quickchart {\n",
              "      --bg-color: #3B4455;\n",
              "      --fill-color: #D2E3FC;\n",
              "      --hover-bg-color: #434B5C;\n",
              "      --hover-fill-color: #FFFFFF;\n",
              "      --disabled-bg-color: #3B4455;\n",
              "      --disabled-fill-color: #666;\n",
              "  }\n",
              "\n",
              "  .colab-df-quickchart {\n",
              "    background-color: var(--bg-color);\n",
              "    border: none;\n",
              "    border-radius: 50%;\n",
              "    cursor: pointer;\n",
              "    display: none;\n",
              "    fill: var(--fill-color);\n",
              "    height: 32px;\n",
              "    padding: 0;\n",
              "    width: 32px;\n",
              "  }\n",
              "\n",
              "  .colab-df-quickchart:hover {\n",
              "    background-color: var(--hover-bg-color);\n",
              "    box-shadow: 0 1px 2px rgba(60, 64, 67, 0.3), 0 1px 3px 1px rgba(60, 64, 67, 0.15);\n",
              "    fill: var(--button-hover-fill-color);\n",
              "  }\n",
              "\n",
              "  .colab-df-quickchart-complete:disabled,\n",
              "  .colab-df-quickchart-complete:disabled:hover {\n",
              "    background-color: var(--disabled-bg-color);\n",
              "    fill: var(--disabled-fill-color);\n",
              "    box-shadow: none;\n",
              "  }\n",
              "\n",
              "  .colab-df-spinner {\n",
              "    border: 2px solid var(--fill-color);\n",
              "    border-color: transparent;\n",
              "    border-bottom-color: var(--fill-color);\n",
              "    animation:\n",
              "      spin 1s steps(1) infinite;\n",
              "  }\n",
              "\n",
              "  @keyframes spin {\n",
              "    0% {\n",
              "      border-color: transparent;\n",
              "      border-bottom-color: var(--fill-color);\n",
              "      border-left-color: var(--fill-color);\n",
              "    }\n",
              "    20% {\n",
              "      border-color: transparent;\n",
              "      border-left-color: var(--fill-color);\n",
              "      border-top-color: var(--fill-color);\n",
              "    }\n",
              "    30% {\n",
              "      border-color: transparent;\n",
              "      border-left-color: var(--fill-color);\n",
              "      border-top-color: var(--fill-color);\n",
              "      border-right-color: var(--fill-color);\n",
              "    }\n",
              "    40% {\n",
              "      border-color: transparent;\n",
              "      border-right-color: var(--fill-color);\n",
              "      border-top-color: var(--fill-color);\n",
              "    }\n",
              "    60% {\n",
              "      border-color: transparent;\n",
              "      border-right-color: var(--fill-color);\n",
              "    }\n",
              "    80% {\n",
              "      border-color: transparent;\n",
              "      border-right-color: var(--fill-color);\n",
              "      border-bottom-color: var(--fill-color);\n",
              "    }\n",
              "    90% {\n",
              "      border-color: transparent;\n",
              "      border-bottom-color: var(--fill-color);\n",
              "    }\n",
              "  }\n",
              "</style>\n",
              "\n",
              "  <script>\n",
              "    async function quickchart(key) {\n",
              "      const quickchartButtonEl =\n",
              "        document.querySelector('#' + key + ' button');\n",
              "      quickchartButtonEl.disabled = true;  // To prevent multiple clicks.\n",
              "      quickchartButtonEl.classList.add('colab-df-spinner');\n",
              "      try {\n",
              "        const charts = await google.colab.kernel.invokeFunction(\n",
              "            'suggestCharts', [key], {});\n",
              "      } catch (error) {\n",
              "        console.error('Error during call to suggestCharts:', error);\n",
              "      }\n",
              "      quickchartButtonEl.classList.remove('colab-df-spinner');\n",
              "      quickchartButtonEl.classList.add('colab-df-quickchart-complete');\n",
              "    }\n",
              "    (() => {\n",
              "      let quickchartButtonEl =\n",
              "        document.querySelector('#df-c47b772e-eded-4b1b-abf9-4879d27f6c69 button');\n",
              "      quickchartButtonEl.style.display =\n",
              "        google.colab.kernel.accessAllowed ? 'block' : 'none';\n",
              "    })();\n",
              "  </script>\n",
              "</div>\n",
              "\n",
              "    </div>\n",
              "  </div>\n"
            ],
            "application/vnd.google.colaboratory.intrinsic+json": {
              "type": "dataframe",
              "summary": "{\n  \"name\": \"df2\",\n  \"rows\": 5,\n  \"fields\": [\n    {\n      \"column\": \"Height\",\n      \"properties\": {\n        \"dtype\": \"number\",\n        \"std\": 5.634003904861974,\n        \"min\": 161.4,\n        \"max\": 175.9,\n        \"num_unique_values\": 5,\n        \"samples\": [\n          161.4,\n          173.7,\n          168.3\n        ],\n        \"semantic_type\": \"\",\n        \"description\": \"\"\n      }\n    },\n    {\n      \"column\": \"Weight\",\n      \"properties\": {\n        \"dtype\": \"number\",\n        \"std\": 11.913941413319103,\n        \"min\": 59.1,\n        \"max\": 87.1,\n        \"num_unique_values\": 5,\n        \"samples\": [\n          59.1,\n          76.3,\n          63.9\n        ],\n        \"semantic_type\": \"\",\n        \"description\": \"\"\n      }\n    },\n    {\n      \"column\": \"Gender_Female\",\n      \"properties\": {\n        \"dtype\": \"boolean\",\n        \"num_unique_values\": 2,\n        \"samples\": [\n          true,\n          false\n        ],\n        \"semantic_type\": \"\",\n        \"description\": \"\"\n      }\n    },\n    {\n      \"column\": \"Gender_Male\",\n      \"properties\": {\n        \"dtype\": \"boolean\",\n        \"num_unique_values\": 2,\n        \"samples\": [\n          false,\n          true\n        ],\n        \"semantic_type\": \"\",\n        \"description\": \"\"\n      }\n    }\n  ]\n}"
            }
          },
          "metadata": {},
          "execution_count": 7
        }
      ],
      "source": [
        "df2 = get_dummies(df, columns=['Gender'])\n",
        "df2.sample(5)"
      ]
    },
    {
      "cell_type": "markdown",
      "metadata": {
        "id": "TaRB6jsuQEkI"
      },
      "source": [
        "To do:\n",
        "- Separate into fetures and targets\n",
        "- Split to training and testing sets"
      ]
    },
    {
      "cell_type": "code",
      "execution_count": 8,
      "metadata": {
        "id": "89EssYpWQEkI",
        "tags": []
      },
      "outputs": [],
      "source": [
        "X2= df2.drop(columns=['Weight'])\n",
        "y2 = df2['Weight']\n",
        "X2_train, X2_test, y2_train, y2_test = split (X2, y2, train_size=0.75, random_state=42)"
      ]
    },
    {
      "cell_type": "markdown",
      "metadata": {
        "id": "zBnQUAxVQEkI"
      },
      "source": [
        "To do:\n",
        "- Build another linear regression model (named it as lnr2) to estimate the weight based on height and both genders\n",
        "- Evaluate the model's performance with R2 score"
      ]
    },
    {
      "cell_type": "code",
      "execution_count": 11,
      "metadata": {
        "id": "ggmvKTwBQEkI",
        "tags": [],
        "colab": {
          "base_uri": "https://localhost:8080/"
        },
        "outputId": "93a51098-2d47-406d-e981-cf46203ce899"
      },
      "outputs": [
        {
          "output_type": "stream",
          "name": "stdout",
          "text": [
            "R2 score:(lnr2.score(X2_test, y2_test))\n"
          ]
        }
      ],
      "source": [
        "lnr2 = LinearRegression().fit(X2_train, y2_train)\n",
        "print(f'R2 score:(lnr2.score(X2_test, y2_test))')"
      ]
    },
    {
      "cell_type": "code",
      "execution_count": 12,
      "metadata": {
        "id": "PTQAR6U8QEkI",
        "tags": [],
        "colab": {
          "base_uri": "https://localhost:8080/"
        },
        "outputId": "7a4578e7-a025-43c9-a825-d91c17c49723"
      },
      "outputs": [
        {
          "output_type": "stream",
          "name": "stdout",
          "text": [
            "Enter height: 165\n",
            "Enter gender (0 for male, 1 for female): 0\n",
            "Estimated weight is: [73.79303953]kg\n"
          ]
        }
      ],
      "source": [
        "h = eval(input('Enter height: '))\n",
        "g = eval(input('Enter gender (0 for male, 1 for female): '))\n",
        "print(f'Estimated weight is: {lnr2.predict([[h, g, 1-g]])}kg')"
      ]
    },
    {
      "cell_type": "markdown",
      "metadata": {
        "id": "p87LwoSIQEkJ"
      },
      "source": [
        "## Exercise 2\n",
        "### Classification\n",
        "#### Compare 8 classification models for handwritten digit recognition"
      ]
    },
    {
      "cell_type": "code",
      "execution_count": 13,
      "metadata": {
        "id": "nZhE6aHYQEkJ",
        "colab": {
          "base_uri": "https://localhost:8080/",
          "height": 428
        },
        "outputId": "03273baa-9b9f-4e89-a634-dfe512b50d70"
      },
      "outputs": [
        {
          "output_type": "display_data",
          "data": {
            "text/plain": [
              "<Figure size 640x480 with 1 Axes>"
            ],
            "image/png": "[encoded data removed]"
          },
          "metadata": {}
        }
      ],
      "source": [
        "import matplotlib.pyplot as plt\n",
        "from sklearn.datasets import load_digits\n",
        "from sklearn.model_selection import train_test_split as split, KFold, cross_val_score\n",
        "from sklearn.neighbors import KNeighborsClassifier\n",
        "from sklearn.linear_model import LogisticRegression\n",
        "from sklearn.naive_bayes import MultinomialNB\n",
        "from sklearn.svm import SVC\n",
        "from sklearn.tree import DecisionTreeClassifier\n",
        "from sklearn.ensemble import RandomForestClassifier\n",
        "from sklearn.ensemble import GradientBoostingClassifier\n",
        "from sklearn.neural_network import MLPClassifier\n",
        "from sklearn.feature_selection import SelectKBest\n",
        "from sklearn.decomposition import PCA\n",
        "\n",
        "X, y = load_digits(return_X_y=True)\n",
        "\n",
        "# View one of the image\n",
        "plt.imshow(X[0, :].reshape(8, 8), cmap='gray')\n",
        "plt.axis(False)\n",
        "plt.title(f'Digit: {y[0]}')\n",
        "plt.show()"
      ]
    },
    {
      "cell_type": "markdown",
      "metadata": {
        "id": "uAudg4m4QEkJ"
      },
      "source": [
        "To do:\n",
        "- Check the number of features in the dataset"
      ]
    },
    {
      "cell_type": "code",
      "execution_count": 20,
      "metadata": {
        "id": "za4nhp5AQEkJ",
        "colab": {
          "base_uri": "https://localhost:8080/"
        },
        "outputId": "ba6a3a69-9300-4ca9-bf6b-2be65a2c4936"
      },
      "outputs": [
        {
          "output_type": "stream",
          "name": "stdout",
          "text": [
            "NUmber of features : 64\n"
          ]
        }
      ],
      "source": [
        "X.shape\n",
        "print(f\"NUmber of features : {X.shape[1]}\")"
      ]
    },
    {
      "cell_type": "markdown",
      "metadata": {
        "id": "4L8oABD9QEkJ"
      },
      "source": [
        "To do:\n",
        "- Use spot-checking technique to compare 8 classification models"
      ]
    },
    {
      "cell_type": "code",
      "execution_count": 30,
      "metadata": {
        "id": "XMdcKbf5QEkJ",
        "colab": {
          "base_uri": "https://localhost:8080/"
        },
        "outputId": "38357721-046b-451e-b762-3e8a4c3319ea"
      },
      "outputs": [
        {
          "output_type": "stream",
          "name": "stdout",
          "text": [
            "KNN: 0.986, 0.008\n",
            "LGR: 0.962, 0.004\n",
            "MNB: 0.901, 0.011\n",
            "SVC: 0.988, 0.001\n",
            "DTC: 0.853, 0.014\n",
            "RFC: 0.975, 0.010\n",
            "GBC: 0.967, 0.020\n",
            "MLP: 0.974, 0.005\n"
          ]
        }
      ],
      "source": [
        "models = {} # Initialize models as a dictionary\n",
        "models['KNN'] = KNeighborsClassifier()\n",
        "models['LGR'] = LogisticRegression()\n",
        "models['MNB'] = MultinomialNB()\n",
        "models['SVC'] = SVC()\n",
        "models['DTC'] = DecisionTreeClassifier()\n",
        "models['RFC'] = RandomForestClassifier()\n",
        "models['GBC'] = GradientBoostingClassifier()\n",
        "models['MLP'] = MLPClassifier()\n",
        "\n",
        "# Assuming 'KFold' is intended and 'kFold' was a typo\n",
        "from sklearn.model_selection import KFold\n",
        "kf = KFold(n_splits=5, shuffle=True, random_state=42)\n",
        "\n",
        "for name in models:\n",
        "    cv_results = cross_val_score(models[name], X, y, cv=kf, scoring='accuracy', n_jobs=-1)  # Removed extra comma in scoring\n",
        "    print(f'{name}: {cv_results.mean():.3f}, {cv_results.std():.3f}') # Removed the '%' from std in the print statement"
      ]
    },
    {
      "cell_type": "markdown",
      "metadata": {
        "id": "aiM0Nk1cQEkJ"
      },
      "source": [
        "To do:\n",
        "- Use Univariate Selection to select 20 best features. Evaluate the performance of the 8 classifiction models above on these features using 5-fold cross validation."
      ]
    },
    {
      "cell_type": "code",
      "execution_count": 34,
      "metadata": {
        "id": "MMtIN1VOQEkJ",
        "colab": {
          "base_uri": "https://localhost:8080/"
        },
        "outputId": "b566fc29-3032-41c5-f455-cde7977e931a"
      },
      "outputs": [
        {
          "output_type": "stream",
          "name": "stdout",
          "text": [
            "KNN; 0.986, 0.008\n",
            "LGR; 0.962, 0.004\n",
            "MNB; 0.901, 0.011\n",
            "SVC; 0.988, 0.001\n",
            "DTC; 0.856, 0.017\n",
            "RFC; 0.976, 0.007\n",
            "GBC; 0.965, 0.020\n",
            "MLP; 0.975, 0.003\n"
          ]
        }
      ],
      "source": [
        "fs= SelectKBest(k=20)\n",
        "X_fs = fs.fit_transform(X, y)\n",
        "for name in models:\n",
        "  cv_results= cross_val_score(models[name],X, y, cv=kf, scoring='accuracy', n_jobs=-1)\n",
        "  print(f'{name}; {cv_results.mean():.3f}, {cv_results.std():.3f}')"
      ]
    },
    {
      "cell_type": "markdown",
      "source": [
        "To do:  \n",
        "- Use PCA to reduce the dimensionality of the dataset to 20 features. Evaluate the performance of the 8 classifiction models above on these features using 5-fold cross validation."
      ],
      "metadata": {
        "id": "9P5Td7EHyVFD"
      }
    },
    {
      "cell_type": "code",
      "source": [
        "pca = PCA(n_components=20)\n",
        "X_pca = pca.fit_transform(X)\n",
        "\n",
        "for name in models:\n",
        "  try:\n",
        "    cv_results = cross_val_score(models[name], X_pca, y, cv=kf, scoring='accuracy', n_jobs=-1)\n",
        "  except:\n",
        "    print(f'{name} is not applicable to this dataset')\n",
        "    continue\n",
        "  print(f'{name}: {cv_results.mean():.3%}, {cv_results.std():.3%}')"
      ],
      "metadata": {
        "id": "Z5jDLJXayzPu",
        "colab": {
          "base_uri": "https://localhost:8080/"
        },
        "outputId": "5cc3d8ec-860a-4264-9bf4-549d72ebd763"
      },
      "execution_count": 39,
      "outputs": [
        {
          "output_type": "stream",
          "name": "stdout",
          "text": [
            "KNN: 98.553%, 0.956%\n",
            "LGR: 94.268%, 0.334%\n",
            "MNB is not applicable to this dataset\n",
            "SVC: 98.776%, 0.451%\n",
            "DTC: 86.256%, 1.242%\n",
            "RFC: 97.050%, 1.082%\n",
            "GBC: 94.602%, 1.490%\n",
            "MLP: 97.551%, 0.714%\n"
          ]
        }
      ]
    }
  ],
  "metadata": {
    "colab": {
      "provenance": [],
      "include_colab_link": true
    },
    "kernelspec": {
      "display_name": "Python 3 (ipykernel)",
      "language": "python",
      "name": "python3"
    },
    "language_info": {
      "codemirror_mode": {
        "name": "ipython",
        "version": 3
      },
      "file_extension": ".py",
      "mimetype": "text/x-python",
      "name": "python",
      "nbconvert_exporter": "python",
      "pygments_lexer": "ipython3",
      "version": "3.11.3"
    }
  },
  "nbformat": 4,
  "nbformat_minor": 0
}